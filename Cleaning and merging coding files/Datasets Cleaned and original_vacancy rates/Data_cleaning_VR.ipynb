{
 "cells": [
  {
   "cell_type": "code",
   "execution_count": 7,
   "id": "fb1f9fcc",
   "metadata": {},
   "outputs": [],
   "source": [
    "# import the dependencies\n",
    "import pandas as pd\n",
    "import numpy as np"
   ]
  },
  {
   "cell_type": "code",
   "execution_count": 8,
   "id": "50dccea7",
   "metadata": {},
   "outputs": [],
   "source": [
    "#create function for automation\n",
    "def CleaningData(filepath,Year):\n",
    "    get_df = pd.read_csv(filepath)\n",
    "    #get required columns\n",
    "    get_df = get_df[['Province', 'Centre', 'Zone', 'Neighbourhood', 'Dwelling Type ','Bachelor ','1 Bedroom','2 Bedroom', '3 Bedroom +','Total ']]\n",
    "    \n",
    "    \n",
    "    #replace ** and -- \n",
    "    get_df = get_df.replace(\"**\", 0)\n",
    "    get_df = get_df.replace(\"--\", 0)\n",
    "    get_df = get_df.replace(\"\\n\",\" \", regex = True)\n",
    "    \n",
    "    \n",
    "    # strip off french in the row names\n",
    "    get_df[\"Province\"] = get_df[\"Province\"].str.split(\"/\").str[0]\n",
    "    get_df[\"Province\"] =get_df[\"Province\"].str.strip()\n",
    "    get_df[\"Zone\"] = get_df[\"Zone\"].str.split(\"~\").str[0]\n",
    "    get_df[\"Zone\"] = get_df[\"Zone\"].str.strip() \n",
    "    get_df[\"Neighbourhood\"] = get_df[\"Neighbourhood\"].str.split(\"~\").str[0]\n",
    "    get_df[\"Neighbourhood\"] = get_df[\"Neighbourhood\"].str.strip() \n",
    "    get_df[\"Dwelling Type \"] =get_df[\"Dwelling Type \"].str.split(\"/\").str[0]\n",
    "    get_df[\"Dwelling Type \"] = get_df[\"Dwelling Type \"].str.strip()\n",
    "    \n",
    "    #remove total averages\n",
    "    get_df = get_df[(get_df[\"Province\"] != \"Total\") & (get_df[\"Zone\"] != \"Total\") & \\\n",
    "                    (get_df[\"Neighbourhood\"] != \"Total\") & (get_df[\"Dwelling Type \"] != \"Total\")]\n",
    "    \n",
    "    # strip off the formatting for analysis purpose\n",
    "    get_df[\"Bachelor \"] = get_df[\"Bachelor \"].str.replace(\"%\", \"\",regex=True).astype(float)\n",
    "    get_df[\"1 Bedroom\"] = get_df[\"1 Bedroom\"].str.replace(\"%\", \"\",regex=True).astype(float)\n",
    "    get_df[\"2 Bedroom\"] = get_df[\"2 Bedroom\"].str.replace(\"%\", \"\",regex=True).astype(float)\n",
    "    get_df[\"3 Bedroom +\"] = get_df[\"3 Bedroom +\"].str.replace(\"%\", \"\",regex=True).astype(float)\n",
    "    get_df[\"Total \"] = get_df[\"Total \"].str.replace(\"%\", \"\",regex=True).astype(float)\n",
    "    \n",
    "    #add the corresponding year for concatenating\n",
    "    get_df[\"Year\"] = Year\n",
    "    return get_df\n",
    "                      \n",
    "                      "
   ]
  },
  {
   "cell_type": "code",
   "execution_count": 10,
   "id": "fc0cdebe",
   "metadata": {},
   "outputs": [],
   "source": [
    "#get the files to be clened\n",
    "filepath_2018 = \"Vacancy_rates_2018.csv\"\n",
    "filepath_2019 = \"Vacancy_rates_2019.csv\"\n",
    "filepath_2020 = \"Vacancy_rates_2020.csv\"\n",
    "filepath_2021 = \"Vacancy_rates_2021.csv\"\n",
    "filepath_2022 = \"Vacancy_rates_2022.csv\"\n",
    "\n",
    "#make a list for looping\n",
    "files = [[filepath_2018,2018],[filepath_2019,2019], [filepath_2020,2020],[filepath_2021,2021],[filepath_2022,2022]]\n",
    "\n",
    "#loop and use function to clean the data and save it\n",
    "for each in files:\n",
    "    clean_data = CleaningData(each[0],each[1])\n",
    "    clean_data.to_csv(f\"VR_clean_{each[1]}.csv\",index=False)\n",
    "    \n"
   ]
  },
  {
   "cell_type": "code",
   "execution_count": null,
   "id": "195ed52c",
   "metadata": {},
   "outputs": [],
   "source": []
  },
  {
   "cell_type": "code",
   "execution_count": null,
   "id": "c935b50c",
   "metadata": {},
   "outputs": [],
   "source": []
  }
 ],
 "metadata": {
  "kernelspec": {
   "display_name": "Python 3 (ipykernel)",
   "language": "python",
   "name": "python3"
  },
  "language_info": {
   "codemirror_mode": {
    "name": "ipython",
    "version": 3
   },
   "file_extension": ".py",
   "mimetype": "text/x-python",
   "name": "python",
   "nbconvert_exporter": "python",
   "pygments_lexer": "ipython3",
   "version": "3.9.13"
  }
 },
 "nbformat": 4,
 "nbformat_minor": 5
}
