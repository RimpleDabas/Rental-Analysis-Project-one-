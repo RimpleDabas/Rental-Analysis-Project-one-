{
 "cells": [
  {
   "cell_type": "code",
   "execution_count": 7,
   "id": "eaed5192",
   "metadata": {},
   "outputs": [],
   "source": [
    "# import the dependencies\n",
    "import pandas as pd\n",
    "import numpy as np"
   ]
  },
  {
   "cell_type": "code",
   "execution_count": 8,
   "id": "c10e7eb9",
   "metadata": {},
   "outputs": [],
   "source": [
    "#create function for automation\n",
    "def CleaningData(filepath,Year):\n",
    "    get_df = pd.read_csv(filepath)\n",
    "    #select the columns\n",
    "    get_df = get_df[['Province', 'Centre', 'Zone', 'Neighbourhood', 'Dwelling Type ','Bachelor ','1 Bedroom','2 Bedroom', '3 Bedroom +','Total ']]\n",
    "    #replace ** and -- \n",
    "    get_df = get_df.replace(\"**\", 0)\n",
    "    get_df = get_df.replace(\"--\", 0)\n",
    "    get_df = get_df.replace(\"\\n\",\" \", regex = True)\n",
    "    \n",
    "    \n",
    "    #get rid of french names in columns\n",
    "    get_df[\"Province\"] = get_df[\"Province\"].str.split(\"/\").str[0]\n",
    "    get_df[\"Province\"] =get_df[\"Province\"].str.strip() \n",
    "    get_df[\"Zone\"] = get_df[\"Zone\"].str.split(\"~\").str[0]\n",
    "    get_df[\"Zone\"] = get_df[\"Zone\"].str.strip() \n",
    "    get_df[\"Neighbourhood\"] = get_df[\"Neighbourhood\"].str.split(\"~\").str[0]\n",
    "    get_df[\"Neighbourhood\"] = get_df[\"Neighbourhood\"].str.strip() \n",
    "    get_df[\"Dwelling Type \"] =get_df[\"Dwelling Type \"].str.split(\"/\").str[0]\n",
    "    get_df[\"Dwelling Type \"] = get_df[\"Dwelling Type \"].str.strip()\n",
    "    \n",
    "    #remove total because we will do this ourself\n",
    "    get_df = get_df[(get_df[\"Province\"] != \"Total\") & (get_df[\"Zone\"] != \"Total\") & \\\n",
    "                    (get_df[\"Neighbourhood\"] != \"Total\") & (get_df[\"Dwelling Type \"] != \"Total\")]\n",
    "    \n",
    "    \n",
    "    ##strip the formating to use during further analysis\n",
    "    get_df[\"Bachelor \"] = get_df[\"Bachelor \"].str.replace(\"$\", \"\",regex=True).replace(\",\", \"\",regex=True).astype(float)\n",
    "    get_df[\"1 Bedroom\"] = get_df[\"1 Bedroom\"].str.replace(\"$\", \"\",regex=True).replace(\",\", \"\",regex=True).astype(float)\n",
    "    get_df[\"2 Bedroom\"] = get_df[\"2 Bedroom\"].str.replace(\"$\", \"\",regex=True).replace(\",\", \"\",regex=True).astype(float)\n",
    "    get_df[\"3 Bedroom +\"] = get_df[\"3 Bedroom +\"].str.replace(\"$\", \"\",regex=True).replace(\",\", \"\",regex=True).astype(float)\n",
    "    get_df[\"Total \"] = get_df[\"Total \"].str.replace(\"$\", \"\",regex=True).replace(\",\", \"\",regex=True).astype(float)\n",
    "   \n",
    "    get_df[[\"Bachelor \",\"1 Bedroom\",\"2 Bedroom\",\"3 Bedroom +\",\"Total \"]] = get_df[[\"Bachelor \",\"1 Bedroom\",\"2 Bedroom\",\"3 Bedroom +\",\"Total \"]].apply(pd.to_numeric)\n",
    "    #add corresponding year for concatenating\n",
    "    get_df[\"Year\"] = Year\n",
    "    \n",
    "    return get_df\n",
    "                      \n",
    "                      "
   ]
  },
  {
   "cell_type": "code",
   "execution_count": 3,
   "id": "c8010a79",
   "metadata": {},
   "outputs": [],
   "source": [
    "#import files\n",
    "filepath_2018 = \"Average_rents_2018.csv\"\n",
    "filepath_2019 = \"Average_rents_2019.csv\"\n",
    "filepath_2020 = \"Average_rents_2020.csv\"\n",
    "filepath_2021 = \"Average_rents_2021.csv\"\n",
    "filepath_2022 = \"Average_rents_2022.csv\"\n",
    "\n",
    "# make a list to loop over\n",
    "files = [[filepath_2018,2018],[filepath_2019,2019], [filepath_2020,2020],[filepath_2021,2021],[filepath_2022,2022]]\n",
    "\n",
    "#loop over the data  and save in new csv files\n",
    "for each in files:\n",
    "    clean_data = CleaningData(each[0],each[1])\n",
    "    \n",
    "    clean_data.to_csv(f\"Average_rents_Clean_{each[1]}.csv\",index=False)\n",
    "    \n"
   ]
  },
  {
   "cell_type": "code",
   "execution_count": 4,
   "id": "241cec67",
   "metadata": {},
   "outputs": [],
   "source": []
  },
  {
   "cell_type": "code",
   "execution_count": 5,
   "id": "bddeb978",
   "metadata": {},
   "outputs": [],
   "source": []
  },
  {
   "cell_type": "code",
   "execution_count": null,
   "id": "c76d54a8",
   "metadata": {},
   "outputs": [],
   "source": []
  }
 ],
 "metadata": {
  "kernelspec": {
   "display_name": "Python 3 (ipykernel)",
   "language": "python",
   "name": "python3"
  },
  "language_info": {
   "codemirror_mode": {
    "name": "ipython",
    "version": 3
   },
   "file_extension": ".py",
   "mimetype": "text/x-python",
   "name": "python",
   "nbconvert_exporter": "python",
   "pygments_lexer": "ipython3",
   "version": "3.10.9"
  }
 },
 "nbformat": 4,
 "nbformat_minor": 5
}
