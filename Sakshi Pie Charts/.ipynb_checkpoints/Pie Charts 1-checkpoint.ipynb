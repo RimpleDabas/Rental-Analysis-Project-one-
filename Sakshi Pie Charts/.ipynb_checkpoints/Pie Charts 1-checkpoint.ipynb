{
 "cells": [
  {
   "cell_type": "markdown",
   "metadata": {},
   "source": [
    "Data Visualization\n",
    "---\n",
    "\n",
    "### Pie-Charts-1 "
   ]
  },
  {
   "cell_type": "code",
   "execution_count": null,
   "metadata": {},
   "outputs": [],
   "source": [
    "# pip install pandas matplotlib seaborn"
   ]
  },
  {
   "cell_type": "code",
   "execution_count": 11,
   "metadata": {},
   "outputs": [],
   "source": [
    "import pandas as pd\n",
    "import matplotlib.pyplot as plt\n",
    "import seaborn as sns\n",
    "import numpy as np\n",
    "import os\n",
    "\n",
    "# Read the CSV files\n",
    "average_rents = pd.read_csv(\"resources/Average Rents.csv\")\n",
    "number_of_units = pd.read_csv(\"resources/Number_of_Units.csv\")\n",
    "vacancy_rate = pd.read_csv(\"resources/Vacancy Rate.csv\")\n",
    "\n",
    "# Remove any trailing spaces from the column names\n",
    "average_rents.columns = average_rents.columns.str.strip()\n",
    "number_of_units.columns = number_of_units.columns.str.strip()\n",
    "vacancy_rate.columns = vacancy_rate.columns.str.strip()"
   ]
  },
  {
   "cell_type": "code",
   "execution_count": null,
   "metadata": {},
   "outputs": [],
   "source": []
  }
 ],
 "metadata": {
  "anaconda-cloud": {},
  "kernelspec": {
   "display_name": "Python 3 (ipykernel)",
   "language": "python",
   "name": "python3"
  },
  "language_info": {
   "codemirror_mode": {
    "name": "ipython",
    "version": 3
   },
   "file_extension": ".py",
   "mimetype": "text/x-python",
   "name": "python",
   "nbconvert_exporter": "python",
   "pygments_lexer": "ipython3",
   "version": "3.10.9"
  }
 },
 "nbformat": 4,
 "nbformat_minor": 4
}
