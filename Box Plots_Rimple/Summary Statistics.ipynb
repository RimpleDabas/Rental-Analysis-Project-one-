{
 "cells": [
  {
   "cell_type": "code",
   "execution_count": 52,
   "id": "076cf643",
   "metadata": {},
   "outputs": [
    {
     "name": "stdout",
     "output_type": "stream",
     "text": [
      "['Nfld.Lab.' 'N.S.' 'N.B.' 'Que' 'Ont.' 'Man.' 'Sask.' 'Alta' 'B.C.']\n"
     ]
    },
    {
     "data": {
      "text/plain": [
       "Index(['Province', 'Centre', 'Zone', 'Neighbourhood', 'Dwelling Type ',\n",
       "       'Bachelor ', '1 Bedroom', '2 Bedroom', '3 Bedroom +', 'Total ', 'Year'],\n",
       "      dtype='object')"
      ]
     },
     "execution_count": 52,
     "metadata": {},
     "output_type": "execute_result"
    }
   ],
   "source": [
    "#import dependencies\n",
    "import pandas as pd\n",
    "import numpy as np\n",
    "import matplotlib.pyplot as plt\n",
    "import scipy.stats as st\n",
    "\n",
    "# ignore warnings\n",
    "import warnings\n",
    "warnings.filterwarnings('ignore')\n",
    "\n",
    "# define paths for the datasets to be used\n",
    "path_rental = \"Average Rents_Concat.csv\"\n",
    "path_units = \"Number_of_Units_Concat.csv\"\n",
    "path_vacancy = \"Vacancy Rate Concat.csv\"\n",
    "\n",
    "#read into files\n",
    "rental_df = pd.read_csv(path_rental)\n",
    "units_df = pd.read_csv(path_units)\n",
    "vacancy_df = pd.read_csv(path_vacancy)\n",
    "rental_df.columns\n",
    "print(rental_df[\"Province\"].unique())\n",
    "rental_df.columns"
   ]
  },
  {
   "cell_type": "code",
   "execution_count": 53,
   "id": "f9573db1",
   "metadata": {},
   "outputs": [],
   "source": [
    "rental_df = rental_df[(rental_df[\"Total \"]!=0)|(rental_df[\"Bachelor \"]!=0)|\\\n",
    "                     (rental_df[\"1 Bedroom\"]!=0)|(rental_df[\"2 Bedroom\"]!=0)]"
   ]
  },
  {
   "cell_type": "code",
   "execution_count": 54,
   "id": "ee4928cd",
   "metadata": {},
   "outputs": [
    {
     "data": {
      "text/html": [
       "<div>\n",
       "<style scoped>\n",
       "    .dataframe tbody tr th:only-of-type {\n",
       "        vertical-align: middle;\n",
       "    }\n",
       "\n",
       "    .dataframe tbody tr th {\n",
       "        vertical-align: top;\n",
       "    }\n",
       "\n",
       "    .dataframe thead th {\n",
       "        text-align: right;\n",
       "    }\n",
       "</style>\n",
       "<table border=\"1\" class=\"dataframe\">\n",
       "  <thead>\n",
       "    <tr style=\"text-align: right;\">\n",
       "      <th></th>\n",
       "      <th>Year</th>\n",
       "      <th>Nfld.Lab.</th>\n",
       "      <th>N.S.</th>\n",
       "      <th>N.B.</th>\n",
       "      <th>Que</th>\n",
       "      <th>Ont.</th>\n",
       "      <th>Man.</th>\n",
       "      <th>Sask.</th>\n",
       "      <th>Alta</th>\n",
       "      <th>B.C.</th>\n",
       "    </tr>\n",
       "  </thead>\n",
       "  <tbody>\n",
       "    <tr>\n",
       "      <th>0</th>\n",
       "      <td>2018</td>\n",
       "      <td>1119.910256</td>\n",
       "      <td>1333.500000</td>\n",
       "      <td>1038.289474</td>\n",
       "      <td>763.636364</td>\n",
       "      <td>1109.218750</td>\n",
       "      <td>846.200000</td>\n",
       "      <td>1161.093583</td>\n",
       "      <td>753.868020</td>\n",
       "      <td>1035.926829</td>\n",
       "    </tr>\n",
       "    <tr>\n",
       "      <th>1</th>\n",
       "      <td>2019</td>\n",
       "      <td>1145.673077</td>\n",
       "      <td>1393.448598</td>\n",
       "      <td>1091.146341</td>\n",
       "      <td>801.590909</td>\n",
       "      <td>1139.181818</td>\n",
       "      <td>861.166667</td>\n",
       "      <td>1220.471850</td>\n",
       "      <td>807.601990</td>\n",
       "      <td>1043.400000</td>\n",
       "    </tr>\n",
       "    <tr>\n",
       "      <th>2</th>\n",
       "      <td>2020</td>\n",
       "      <td>1154.246753</td>\n",
       "      <td>1432.926606</td>\n",
       "      <td>1126.743590</td>\n",
       "      <td>861.476190</td>\n",
       "      <td>1218.310345</td>\n",
       "      <td>875.833333</td>\n",
       "      <td>1280.516575</td>\n",
       "      <td>847.358586</td>\n",
       "      <td>1062.500000</td>\n",
       "    </tr>\n",
       "    <tr>\n",
       "      <th>3</th>\n",
       "      <td>2021</td>\n",
       "      <td>1171.269737</td>\n",
       "      <td>1490.254545</td>\n",
       "      <td>1185.731707</td>\n",
       "      <td>939.750000</td>\n",
       "      <td>1242.730769</td>\n",
       "      <td>891.166667</td>\n",
       "      <td>1330.428161</td>\n",
       "      <td>870.021164</td>\n",
       "      <td>1087.512821</td>\n",
       "    </tr>\n",
       "    <tr>\n",
       "      <th>4</th>\n",
       "      <td>2022</td>\n",
       "      <td>1226.423841</td>\n",
       "      <td>1655.522936</td>\n",
       "      <td>1198.166667</td>\n",
       "      <td>1027.380952</td>\n",
       "      <td>1306.576923</td>\n",
       "      <td>939.000000</td>\n",
       "      <td>1438.457227</td>\n",
       "      <td>933.448864</td>\n",
       "      <td>1148.658537</td>\n",
       "    </tr>\n",
       "  </tbody>\n",
       "</table>\n",
       "</div>"
      ],
      "text/plain": [
       "   Year    Nfld.Lab.         N.S.         N.B.          Que         Ont.  \\\n",
       "0  2018  1119.910256  1333.500000  1038.289474   763.636364  1109.218750   \n",
       "1  2019  1145.673077  1393.448598  1091.146341   801.590909  1139.181818   \n",
       "2  2020  1154.246753  1432.926606  1126.743590   861.476190  1218.310345   \n",
       "3  2021  1171.269737  1490.254545  1185.731707   939.750000  1242.730769   \n",
       "4  2022  1226.423841  1655.522936  1198.166667  1027.380952  1306.576923   \n",
       "\n",
       "         Man.        Sask.        Alta         B.C.  \n",
       "0  846.200000  1161.093583  753.868020  1035.926829  \n",
       "1  861.166667  1220.471850  807.601990  1043.400000  \n",
       "2  875.833333  1280.516575  847.358586  1062.500000  \n",
       "3  891.166667  1330.428161  870.021164  1087.512821  \n",
       "4  939.000000  1438.457227  933.448864  1148.658537  "
      ]
     },
     "execution_count": 54,
     "metadata": {},
     "output_type": "execute_result"
    }
   ],
   "source": [
    "rental_df = rental_df[['Province','Year','Total ']]\n",
    "\n",
    "provinces = ['Nfld.Lab.' ,'N.S.', 'N.B.', 'Que' ,'Ont.', 'Man.', 'Sask.' ,'Alta' ,'B.C.']\n",
    "\n",
    "rental_df = rental_df[(rental_df['Province'].isin(provinces))]\n",
    "\n",
    "rental_df = pd.pivot_table(rental_df, index='Year', columns='Province', values='Total ', aggfunc='mean', fill_value=0).reset_index()\n",
    "\n",
    "rental_df.columns = [\"Year\",'Nfld.Lab.' ,'N.S.' ,'N.B.' ,'Que' ,'Ont.' ,'Man.', 'Sask.', 'Alta' ,'B.C.']\n",
    "\n",
    "rental_df.head()"
   ]
  },
  {
   "cell_type": "code",
   "execution_count": null,
   "id": "e786a53c",
   "metadata": {},
   "outputs": [],
   "source": []
  },
  {
   "cell_type": "code",
   "execution_count": null,
   "id": "8db4513a",
   "metadata": {},
   "outputs": [],
   "source": []
  },
  {
   "cell_type": "code",
   "execution_count": null,
   "id": "ecef6775",
   "metadata": {},
   "outputs": [],
   "source": []
  },
  {
   "cell_type": "code",
   "execution_count": null,
   "id": "62ff3ace",
   "metadata": {},
   "outputs": [],
   "source": []
  }
 ],
 "metadata": {
  "kernelspec": {
   "display_name": "Python 3 (ipykernel)",
   "language": "python",
   "name": "python3"
  },
  "language_info": {
   "codemirror_mode": {
    "name": "ipython",
    "version": 3
   },
   "file_extension": ".py",
   "mimetype": "text/x-python",
   "name": "python",
   "nbconvert_exporter": "python",
   "pygments_lexer": "ipython3",
   "version": "3.9.13"
  }
 },
 "nbformat": 4,
 "nbformat_minor": 5
}
